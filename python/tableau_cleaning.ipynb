{
 "cells": [
  {
   "cell_type": "markdown",
   "id": "d5d351f1-04fb-4966-8114-70d5a556c0d9",
   "metadata": {},
   "source": [
    "Data set is taken from [airbnb.xlsx](https://docs.google.com/spreadsheets/d/1BJWyZpZrrRUla_EQ6Pnusy0KH31UMGf2/edit?usp=sharing&ouid=108445376648788204707&rtpof=true&sd=true)"
   ]
  },
  {
   "cell_type": "code",
   "execution_count": 1,
   "id": "670c4165-4e02-41fa-ab53-db896e752a84",
   "metadata": {},
   "outputs": [],
   "source": [
    "#imports\n",
    "import pandas as pd\n"
   ]
  },
  {
   "cell_type": "code",
   "execution_count": 2,
   "id": "b833b16e-d5f5-42a1-a375-293e8d5e997f",
   "metadata": {},
   "outputs": [],
   "source": [
    "#load the data from Excel"
   ]
  },
  {
   "cell_type": "code",
   "execution_count": 4,
   "id": "6b1d0c5e-c05b-4b1f-bf50-497f452bc388",
   "metadata": {},
   "outputs": [
    {
     "data": {
      "text/html": [
       "<div>\n",
       "<style scoped>\n",
       "    .dataframe tbody tr th:only-of-type {\n",
       "        vertical-align: middle;\n",
       "    }\n",
       "\n",
       "    .dataframe tbody tr th {\n",
       "        vertical-align: top;\n",
       "    }\n",
       "\n",
       "    .dataframe thead th {\n",
       "        text-align: right;\n",
       "    }\n",
       "</style>\n",
       "<table border=\"1\" class=\"dataframe\">\n",
       "  <thead>\n",
       "    <tr style=\"text-align: right;\">\n",
       "      <th></th>\n",
       "      <th>Host Id</th>\n",
       "      <th>Host Since</th>\n",
       "      <th>Name</th>\n",
       "      <th>Neighbourhood</th>\n",
       "      <th>Property Type</th>\n",
       "      <th>Review Scores Rating (bin)</th>\n",
       "      <th>Room Type</th>\n",
       "      <th>Zipcode</th>\n",
       "      <th>Beds</th>\n",
       "      <th>Number of Records</th>\n",
       "      <th>Number Of Reviews</th>\n",
       "      <th>Price</th>\n",
       "      <th>Review Scores Rating</th>\n",
       "    </tr>\n",
       "  </thead>\n",
       "  <tbody>\n",
       "    <tr>\n",
       "      <th>0</th>\n",
       "      <td>5162530</td>\n",
       "      <td>NaT</td>\n",
       "      <td>1 Bedroom in Prime Williamsburg</td>\n",
       "      <td>Brooklyn</td>\n",
       "      <td>Apartment</td>\n",
       "      <td>NaN</td>\n",
       "      <td>Entire home/apt</td>\n",
       "      <td>11249.0</td>\n",
       "      <td>1.0</td>\n",
       "      <td>1</td>\n",
       "      <td>0</td>\n",
       "      <td>145</td>\n",
       "      <td>NaN</td>\n",
       "    </tr>\n",
       "    <tr>\n",
       "      <th>1</th>\n",
       "      <td>33134899</td>\n",
       "      <td>NaT</td>\n",
       "      <td>Sunny, Private room in Bushwick</td>\n",
       "      <td>Brooklyn</td>\n",
       "      <td>Apartment</td>\n",
       "      <td>NaN</td>\n",
       "      <td>Private room</td>\n",
       "      <td>11206.0</td>\n",
       "      <td>1.0</td>\n",
       "      <td>1</td>\n",
       "      <td>1</td>\n",
       "      <td>37</td>\n",
       "      <td>NaN</td>\n",
       "    </tr>\n",
       "    <tr>\n",
       "      <th>2</th>\n",
       "      <td>39608626</td>\n",
       "      <td>NaT</td>\n",
       "      <td>Sunny Room in Harlem</td>\n",
       "      <td>Manhattan</td>\n",
       "      <td>Apartment</td>\n",
       "      <td>NaN</td>\n",
       "      <td>Private room</td>\n",
       "      <td>10032.0</td>\n",
       "      <td>1.0</td>\n",
       "      <td>1</td>\n",
       "      <td>1</td>\n",
       "      <td>28</td>\n",
       "      <td>NaN</td>\n",
       "    </tr>\n",
       "    <tr>\n",
       "      <th>3</th>\n",
       "      <td>500</td>\n",
       "      <td>2008-06-26</td>\n",
       "      <td>Gorgeous 1 BR with Private Balcony</td>\n",
       "      <td>Manhattan</td>\n",
       "      <td>Apartment</td>\n",
       "      <td>NaN</td>\n",
       "      <td>Entire home/apt</td>\n",
       "      <td>10024.0</td>\n",
       "      <td>3.0</td>\n",
       "      <td>1</td>\n",
       "      <td>0</td>\n",
       "      <td>199</td>\n",
       "      <td>NaN</td>\n",
       "    </tr>\n",
       "    <tr>\n",
       "      <th>4</th>\n",
       "      <td>500</td>\n",
       "      <td>2008-06-26</td>\n",
       "      <td>Trendy Times Square Loft</td>\n",
       "      <td>Manhattan</td>\n",
       "      <td>Apartment</td>\n",
       "      <td>95.0</td>\n",
       "      <td>Private room</td>\n",
       "      <td>10036.0</td>\n",
       "      <td>3.0</td>\n",
       "      <td>1</td>\n",
       "      <td>39</td>\n",
       "      <td>549</td>\n",
       "      <td>96.0</td>\n",
       "    </tr>\n",
       "  </tbody>\n",
       "</table>\n",
       "</div>"
      ],
      "text/plain": [
       "    Host Id Host Since                                Name Neighbourhood   \\\n",
       "0   5162530        NaT     1 Bedroom in Prime Williamsburg       Brooklyn   \n",
       "1  33134899        NaT     Sunny, Private room in Bushwick       Brooklyn   \n",
       "2  39608626        NaT                Sunny Room in Harlem      Manhattan   \n",
       "3       500 2008-06-26  Gorgeous 1 BR with Private Balcony      Manhattan   \n",
       "4       500 2008-06-26            Trendy Times Square Loft      Manhattan   \n",
       "\n",
       "  Property Type  Review Scores Rating (bin)        Room Type  Zipcode  Beds  \\\n",
       "0     Apartment                         NaN  Entire home/apt  11249.0   1.0   \n",
       "1     Apartment                         NaN     Private room  11206.0   1.0   \n",
       "2     Apartment                         NaN     Private room  10032.0   1.0   \n",
       "3     Apartment                         NaN  Entire home/apt  10024.0   3.0   \n",
       "4     Apartment                        95.0     Private room  10036.0   3.0   \n",
       "\n",
       "   Number of Records  Number Of Reviews  Price  Review Scores Rating  \n",
       "0                  1                  0    145                   NaN  \n",
       "1                  1                  1     37                   NaN  \n",
       "2                  1                  1     28                   NaN  \n",
       "3                  1                  0    199                   NaN  \n",
       "4                  1                 39    549                  96.0  "
      ]
     },
     "execution_count": 4,
     "metadata": {},
     "output_type": "execute_result"
    }
   ],
   "source": [
    "data = pd.read_excel('../data/airbnb.xlsx', sheet_name='AirBnB_NYC')\n",
    "data.head()"
   ]
  },
  {
   "cell_type": "code",
   "execution_count": 14,
   "id": "4163eca5-ff91-4b85-8412-d53f279b6915",
   "metadata": {},
   "outputs": [
    {
     "data": {
      "text/plain": [
       "(30478, 13)"
      ]
     },
     "execution_count": 14,
     "metadata": {},
     "output_type": "execute_result"
    }
   ],
   "source": [
    "data.shape"
   ]
  },
  {
   "cell_type": "code",
   "execution_count": 12,
   "id": "88f3009a-e923-45c5-aec7-e5450ad83aea",
   "metadata": {},
   "outputs": [
    {
     "name": "stdout",
     "output_type": "stream",
     "text": [
      "<class 'pandas.core.frame.DataFrame'>\n",
      "RangeIndex: 30478 entries, 0 to 30477\n",
      "Data columns (total 13 columns):\n",
      " #   Column                      Non-Null Count  Dtype         \n",
      "---  ------                      --------------  -----         \n",
      " 0   Host Id                     30478 non-null  int64         \n",
      " 1   Host Since                  30475 non-null  datetime64[ns]\n",
      " 2   Name                        30478 non-null  object        \n",
      " 3   Neighbourhood               30478 non-null  object        \n",
      " 4   Property Type               30475 non-null  object        \n",
      " 5   Review Scores Rating (bin)  22155 non-null  float64       \n",
      " 6   Room Type                   30478 non-null  object        \n",
      " 7   Zipcode                     30344 non-null  float64       \n",
      " 8   Beds                        30393 non-null  float64       \n",
      " 9   Number of Records           30478 non-null  int64         \n",
      " 10  Number Of Reviews           30478 non-null  int64         \n",
      " 11  Price                       30478 non-null  int64         \n",
      " 12  Review Scores Rating        22155 non-null  float64       \n",
      "dtypes: datetime64[ns](1), float64(4), int64(4), object(4)\n",
      "memory usage: 3.0+ MB\n"
     ]
    }
   ],
   "source": [
    "data.info()"
   ]
  },
  {
   "cell_type": "code",
   "execution_count": 13,
   "id": "e063c394-8cef-44e4-9c1c-a51873a3b77a",
   "metadata": {},
   "outputs": [],
   "source": [
    "# lets do some cleaning"
   ]
  },
  {
   "cell_type": "code",
   "execution_count": 15,
   "id": "e5ba9328-96d3-4501-a53e-ea6a07e5aae6",
   "metadata": {},
   "outputs": [],
   "source": [
    "data.drop_duplicates(inplace=True) #drop duplicate rows"
   ]
  },
  {
   "cell_type": "code",
   "execution_count": 16,
   "id": "e6b3d032-512e-4670-9e99-943eaa5abc97",
   "metadata": {},
   "outputs": [
    {
     "data": {
      "text/plain": [
       "(30461, 13)"
      ]
     },
     "execution_count": 16,
     "metadata": {},
     "output_type": "execute_result"
    }
   ],
   "source": [
    "data.shape"
   ]
  },
  {
   "cell_type": "code",
   "execution_count": 18,
   "id": "61d873bf-9623-4c8b-bbce-ceb6702a9c4c",
   "metadata": {},
   "outputs": [],
   "source": [
    "#from the summary we can see that some of the records contains null values. we try to fill these null values"
   ]
  },
  {
   "cell_type": "code",
   "execution_count": 19,
   "id": "5f6da4b7-5c49-41f6-bc84-e4a80920d76d",
   "metadata": {},
   "outputs": [],
   "source": [
    "data['Review Scores Rating'].fillna(0,inplace=True)"
   ]
  },
  {
   "cell_type": "code",
   "execution_count": 20,
   "id": "68fa2bf7-69b6-4687-b66a-dd9ef23e38df",
   "metadata": {},
   "outputs": [],
   "source": [
    "data['Review Scores Rating (bin)'].fillna(0,inplace=True)"
   ]
  },
  {
   "cell_type": "code",
   "execution_count": 22,
   "id": "16bd3295-de58-49c2-84ff-cc9abdb30c4b",
   "metadata": {},
   "outputs": [],
   "source": [
    "data['Beds'].fillna(0,inplace=True)"
   ]
  },
  {
   "cell_type": "markdown",
   "id": "a1e65433-ea24-41db-8a4f-9a646b8345e7",
   "metadata": {},
   "source": [
    "***As the above fields are numerica so we can fill these with 0 as the pattern in the column value suggested***"
   ]
  },
  {
   "cell_type": "markdown",
   "id": "b454f634-e213-4209-bff6-2c12f725a324",
   "metadata": {},
   "source": [
    "***Also the few rows having null zipcode as the lacation information is the main property of this dataset so with null location information makes these rows insignificant for analysis therefore we can drop these rows.***"
   ]
  },
  {
   "cell_type": "code",
   "execution_count": 25,
   "id": "7553879a-dcc8-43d9-b278-b960f5ede076",
   "metadata": {},
   "outputs": [],
   "source": [
    "data.dropna(subset=['Zipcode'], inplace=True) #drop null values rows"
   ]
  },
  {
   "cell_type": "code",
   "execution_count": 26,
   "id": "04e0cc2b-f7b7-4a98-a6c3-d82898d702cd",
   "metadata": {},
   "outputs": [
    {
     "name": "stdout",
     "output_type": "stream",
     "text": [
      "<class 'pandas.core.frame.DataFrame'>\n",
      "Int64Index: 30327 entries, 0 to 30477\n",
      "Data columns (total 13 columns):\n",
      " #   Column                      Non-Null Count  Dtype         \n",
      "---  ------                      --------------  -----         \n",
      " 0   Host Id                     30327 non-null  int64         \n",
      " 1   Host Since                  30324 non-null  datetime64[ns]\n",
      " 2   Name                        30327 non-null  object        \n",
      " 3   Neighbourhood               30327 non-null  object        \n",
      " 4   Property Type               30324 non-null  object        \n",
      " 5   Review Scores Rating (bin)  30327 non-null  float64       \n",
      " 6   Room Type                   30327 non-null  object        \n",
      " 7   Zipcode                     30327 non-null  float64       \n",
      " 8   Beds                        30327 non-null  float64       \n",
      " 9   Number of Records           30327 non-null  int64         \n",
      " 10  Number Of Reviews           30327 non-null  int64         \n",
      " 11  Price                       30327 non-null  int64         \n",
      " 12  Review Scores Rating        30327 non-null  float64       \n",
      "dtypes: datetime64[ns](1), float64(4), int64(4), object(4)\n",
      "memory usage: 3.2+ MB\n"
     ]
    }
   ],
   "source": [
    "data.info()"
   ]
  },
  {
   "cell_type": "code",
   "execution_count": 27,
   "id": "b6cc38a5-3b02-4936-9235-7af383e5c5e9",
   "metadata": {},
   "outputs": [],
   "source": [
    "#Now the data looks cleaner lets save this into Excel sheet to be used in Tableau"
   ]
  },
  {
   "cell_type": "code",
   "execution_count": 31,
   "id": "103b9896-3812-46e1-81ed-6ace55f7e98b",
   "metadata": {},
   "outputs": [],
   "source": [
    "data.to_excel('../data/airbnb_cleaned.xlsx',sheet_name='AirBnB_NYC')"
   ]
  },
  {
   "cell_type": "code",
   "execution_count": null,
   "id": "7bed5d8d-548b-4f69-80a7-b5debb5ff9aa",
   "metadata": {},
   "outputs": [],
   "source": []
  }
 ],
 "metadata": {
  "kernelspec": {
   "display_name": "Python 3 (ipykernel)",
   "language": "python",
   "name": "python3"
  },
  "language_info": {
   "codemirror_mode": {
    "name": "ipython",
    "version": 3
   },
   "file_extension": ".py",
   "mimetype": "text/x-python",
   "name": "python",
   "nbconvert_exporter": "python",
   "pygments_lexer": "ipython3",
   "version": "3.9.13"
  }
 },
 "nbformat": 4,
 "nbformat_minor": 5
}
